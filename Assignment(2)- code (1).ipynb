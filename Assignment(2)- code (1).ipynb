{
 "cells": [
  {
   "cell_type": "code",
   "execution_count": 1,
   "id": "fa497e8e",
   "metadata": {},
   "outputs": [
    {
     "data": {
      "text/html": [
       "<div>\n",
       "<style scoped>\n",
       "    .dataframe tbody tr th:only-of-type {\n",
       "        vertical-align: middle;\n",
       "    }\n",
       "\n",
       "    .dataframe tbody tr th {\n",
       "        vertical-align: top;\n",
       "    }\n",
       "\n",
       "    .dataframe thead th {\n",
       "        text-align: right;\n",
       "    }\n",
       "</style>\n",
       "<table border=\"1\" class=\"dataframe\">\n",
       "  <thead>\n",
       "    <tr style=\"text-align: right;\">\n",
       "      <th></th>\n",
       "      <th>Freshness</th>\n",
       "      <th>Review</th>\n",
       "    </tr>\n",
       "  </thead>\n",
       "  <tbody>\n",
       "    <tr>\n",
       "      <th>0</th>\n",
       "      <td>fresh</td>\n",
       "      <td>Manakamana doesn't answer any questions, yet ...</td>\n",
       "    </tr>\n",
       "    <tr>\n",
       "      <th>1</th>\n",
       "      <td>fresh</td>\n",
       "      <td>Wilfully offensive and powered by a chest-thu...</td>\n",
       "    </tr>\n",
       "    <tr>\n",
       "      <th>2</th>\n",
       "      <td>rotten</td>\n",
       "      <td>It would be difficult to imagine material mor...</td>\n",
       "    </tr>\n",
       "    <tr>\n",
       "      <th>3</th>\n",
       "      <td>rotten</td>\n",
       "      <td>Despite the gusto its star brings to the role...</td>\n",
       "    </tr>\n",
       "    <tr>\n",
       "      <th>4</th>\n",
       "      <td>rotten</td>\n",
       "      <td>If there was a good idea at the core of this ...</td>\n",
       "    </tr>\n",
       "  </tbody>\n",
       "</table>\n",
       "</div>"
      ],
      "text/plain": [
       "  Freshness                                             Review\n",
       "0     fresh   Manakamana doesn't answer any questions, yet ...\n",
       "1     fresh   Wilfully offensive and powered by a chest-thu...\n",
       "2    rotten   It would be difficult to imagine material mor...\n",
       "3    rotten   Despite the gusto its star brings to the role...\n",
       "4    rotten   If there was a good idea at the core of this ..."
      ]
     },
     "execution_count": 1,
     "metadata": {},
     "output_type": "execute_result"
    }
   ],
   "source": [
    "import pandas as pd\n",
    "reviews = pd.read_csv(r\"C:/Users/HEENA/Downloads/rt_reviews.csv/rt_reviews.csv\", encoding=\"latin-1\")\n",
    "reviews.head(5)"
   ]
  },
  {
   "cell_type": "code",
   "execution_count": 2,
   "id": "eaafe21f",
   "metadata": {},
   "outputs": [
    {
     "name": "stdout",
     "output_type": "stream",
     "text": [
      "(288000, 2)\n",
      "(96000, 2)\n",
      "(96000, 2)\n"
     ]
    }
   ],
   "source": [
    "import numpy as np #[1]\n",
    "\n",
    "# a.Merge the dataset into one. And divide the dataset as train, development and test \n",
    "reviews = reviews[['Freshness', 'Review']]\n",
    "reviews['Review'] = reviews['Review'].str.lower()\n",
    "reviews = reviews.dropna()\n",
    "\n",
    "train_set = reviews.sample(frac=0.6, random_state=1)\n",
    "dev_set = reviews.drop(train_set.index).sample(frac=0.5, random_state=1)\n",
    "test_set = reviews.drop(train_set.index).drop(dev_set.index)\n",
    "\n",
    "print(train_set.shape)\n",
    "print(dev_set.shape)\n",
    "print(test_set.shape)"
   ]
  },
  {
   "cell_type": "code",
   "execution_count": 11,
   "id": "17424df7",
   "metadata": {},
   "outputs": [
    {
     "data": {
      "image/png": "[encoded data removed]",
      "text/plain": [
       "<Figure size 432x288 with 1 Axes>"
      ]
     },
     "metadata": {
      "needs_background": "light"
     },
     "output_type": "display_data"
    }
   ],
   "source": [
    "import matplotlib.pyplot as plt\n",
    "\n",
    "train_size = train_set.shape[0]\n",
    "dev_size = dev_set.shape[0]\n",
    "test_size = test_set.shape[0]\n",
    "\n",
    "categories = ['Train Set', 'Development Set', 'Test Set']\n",
    "values = [train_size, dev_size, test_size]\n",
    "plt.bar(categories, values)\n",
    "\n",
    "plt.title('Data Distribution in Train, Development, and Test Sets')\n",
    "plt.xlabel('Data Set')\n",
    "plt.ylabel('Number of Reviews')\n",
    "\n",
    "plt.show()\n"
   ]
  },
  {
   "cell_type": "code",
   "execution_count": 3,
   "id": "bcf5dc9e",
   "metadata": {},
   "outputs": [
    {
     "data": {
      "text/plain": [
       "fresh     0.501354\n",
       "rotten    0.498646\n",
       "Name: Freshness, dtype: float64"
      ]
     },
     "execution_count": 3,
     "metadata": {},
     "output_type": "execute_result"
    }
   ],
   "source": [
    "train_set['Freshness'].value_counts(normalize=True)#[1]"
   ]
  },
  {
   "cell_type": "code",
   "execution_count": 4,
   "id": "f05244d4",
   "metadata": {},
   "outputs": [
    {
     "data": {
      "text/plain": [
       "rotten    0.502271\n",
       "fresh     0.497729\n",
       "Name: Freshness, dtype: float64"
      ]
     },
     "execution_count": 4,
     "metadata": {},
     "output_type": "execute_result"
    }
   ],
   "source": [
    "test_set['Freshness'].value_counts(normalize=True)#[1]"
   ]
  },
  {
   "cell_type": "code",
   "execution_count": 5,
   "id": "de17dda0",
   "metadata": {},
   "outputs": [
    {
     "data": {
      "text/html": [
       "<div>\n",
       "<style scoped>\n",
       "    .dataframe tbody tr th:only-of-type {\n",
       "        vertical-align: middle;\n",
       "    }\n",
       "\n",
       "    .dataframe tbody tr th {\n",
       "        vertical-align: top;\n",
       "    }\n",
       "\n",
       "    .dataframe thead th {\n",
       "        text-align: right;\n",
       "    }\n",
       "</style>\n",
       "<table border=\"1\" class=\"dataframe\">\n",
       "  <thead>\n",
       "    <tr style=\"text-align: right;\">\n",
       "      <th></th>\n",
       "      <th>Freshness</th>\n",
       "      <th>Review</th>\n",
       "    </tr>\n",
       "  </thead>\n",
       "  <tbody>\n",
       "    <tr>\n",
       "      <th>77126</th>\n",
       "      <td>rotten</td>\n",
       "      <td>the script is packed with witty touches, but ...</td>\n",
       "    </tr>\n",
       "    <tr>\n",
       "      <th>78882</th>\n",
       "      <td>rotten</td>\n",
       "      <td>after an opening-credits sequence of internet...</td>\n",
       "    </tr>\n",
       "    <tr>\n",
       "      <th>469746</th>\n",
       "      <td>rotten</td>\n",
       "      <td>it's not a relationship we become invested in...</td>\n",
       "    </tr>\n",
       "  </tbody>\n",
       "</table>\n",
       "</div>"
      ],
      "text/plain": [
       "       Freshness                                             Review\n",
       "77126     rotten   the script is packed with witty touches, but ...\n",
       "78882     rotten   after an opening-credits sequence of internet...\n",
       "469746    rotten   it's not a relationship we become invested in..."
      ]
     },
     "execution_count": 5,
     "metadata": {},
     "output_type": "execute_result"
    }
   ],
   "source": [
    "train_set.head(3)"
   ]
  },
  {
   "cell_type": "code",
   "execution_count": 6,
   "id": "7ad19312",
   "metadata": {},
   "outputs": [
    {
     "data": {
      "text/html": [
       "<div>\n",
       "<style scoped>\n",
       "    .dataframe tbody tr th:only-of-type {\n",
       "        vertical-align: middle;\n",
       "    }\n",
       "\n",
       "    .dataframe tbody tr th {\n",
       "        vertical-align: top;\n",
       "    }\n",
       "\n",
       "    .dataframe thead th {\n",
       "        text-align: right;\n",
       "    }\n",
       "</style>\n",
       "<table border=\"1\" class=\"dataframe\">\n",
       "  <thead>\n",
       "    <tr style=\"text-align: right;\">\n",
       "      <th></th>\n",
       "      <th>Freshness</th>\n",
       "      <th>Review</th>\n",
       "    </tr>\n",
       "  </thead>\n",
       "  <tbody>\n",
       "    <tr>\n",
       "      <th>77126</th>\n",
       "      <td>rotten</td>\n",
       "      <td>the script is packed with witty touches, but ...</td>\n",
       "    </tr>\n",
       "    <tr>\n",
       "      <th>78882</th>\n",
       "      <td>rotten</td>\n",
       "      <td>after an opening-credits sequence of internet...</td>\n",
       "    </tr>\n",
       "    <tr>\n",
       "      <th>469746</th>\n",
       "      <td>rotten</td>\n",
       "      <td>it's not a relationship we become invested in...</td>\n",
       "    </tr>\n",
       "  </tbody>\n",
       "</table>\n",
       "</div>"
      ],
      "text/plain": [
       "       Freshness                                             Review\n",
       "77126     rotten   the script is packed with witty touches, but ...\n",
       "78882     rotten   after an opening-credits sequence of internet...\n",
       "469746    rotten   it's not a relationship we become invested in..."
      ]
     },
     "execution_count": 6,
     "metadata": {},
     "output_type": "execute_result"
    }
   ],
   "source": [
    "pattern = 'old_pattern'       #[1]\n",
    "replacement = 'new_replacement'  #[1]\n",
    "\n",
    "train_set['Review'] = train_set['Review'].str.replace(pattern, replacement, regex=True) #[1]\n",
    "train_set.head(3)\n"
   ]
  },
  {
   "cell_type": "code",
   "execution_count": 7,
   "id": "db05e243",
   "metadata": {},
   "outputs": [
    {
     "data": {
      "text/plain": [
       "202326"
      ]
     },
     "execution_count": 7,
     "metadata": {},
     "output_type": "execute_result"
    }
   ],
   "source": [
    "#b.Build a vocabulary as list. \n",
    "train_set['Review'] = train_set['Review'].str.split()#[1]\n",
    "\n",
    "vocabulary = []  #[1]\n",
    "for review in train_set['Review']: #[1]\n",
    "   for word in review: # [1]\n",
    "      vocabulary.append(word) #[1]\n",
    "\n",
    "vocabulary = list(set(vocabulary)) #[1]\n",
    "len(vocabulary) #[1]\n",
    "\n"
   ]
  },
  {
   "cell_type": "code",
   "execution_count": 8,
   "id": "258d5c46",
   "metadata": {},
   "outputs": [],
   "source": [
    "\n",
    "word_counts = np.array(np.unique(vocabulary, return_counts=True)).T #[2]\n",
    "word_counts = [(word[0], int(word[1])) for word in word_counts] \n",
    "vocabulary = [word[0] for word in word_counts if word[1] >= 5]\n",
    "\n",
    "reverse_index = {word: i for i, word in enumerate(vocabulary)}\n",
    "\n",
    "#c. Calculate probability of occurrence #[3]\n",
    "num_documents_containing_word = sum(train_set['Review'].apply(lambda x: 'the' in x))\n",
    "num_all_documents = len(train_set)\n",
    "P_the = num_documents_containing_word / num_all_documents\n",
    "\n",
    "#  conditional probability based on sentiment #[3] \n",
    "num_positive_documents_containing_word = sum(train_set[train_set['Freshness'] == 'Positive']['Review'].apply(lambda x: 'the' in x))\n",
    "num_all_positive_documents = len(train_set[train_set['Freshness'] == 'Positive'])\n",
    "\n",
    "if num_all_positive_documents > 0:\n",
    "    P_the_positive = num_positive_documents_containing_word / num_all_positive_documents\n",
    "else:\n",
    "    P_the_positive = 0.0\n",
    "    \n",
    "#d.Calculate accuracy using dev dataset #[1]\n",
    "\n",
    "dev_set['Review'] = dev_set['Review'].str.split()\n",
    "\n",
    "#[1]\n",
    "correct_predictions = 0\n",
    "total_predictions = 0\n",
    "for i, row in dev_set.iterrows():\n",
    "    total_predictions += 1\n",
    "    review = row['Review']\n",
    "    freshness = row['Freshness']\n",
    "    if 'the' in review:\n",
    "        if freshness == 'Positive':\n",
    "            if 'the' in review:\n",
    "                correct_predictions += 1\n",
    "        else:\n",
    "            correct_predictions += 1\n",
    "\n",
    "accuracy = correct_predictions / total_predictions\n"
   ]
  },
  {
   "cell_type": "code",
   "execution_count": 9,
   "id": "1698de9f",
   "metadata": {},
   "outputs": [
    {
     "name": "stdout",
     "output_type": "stream",
     "text": [
      "Accuracy: 63.81%\n"
     ]
    }
   ],
   "source": [
    "print(\"Accuracy: {:.2%}\".format(accuracy))\n"
   ]
  },
  {
   "cell_type": "code",
   "execution_count": 67,
   "id": "bd96d77d",
   "metadata": {},
   "outputs": [],
   "source": [
    "#Compare the effect of Smoothing #[1]\n",
    "\n",
    "conditions = (train_set['Freshness'] == 'fresh') | (train_set['Freshness'] == 'rotten') #updated\n",
    "train_set_clean = train_set[conditions] #updated\n",
    "\n",
    "fresh_tomato = train_set_clean[train_set_clean['Freshness'] == 'fresh'] #[1]\n",
    "rotten_tomato = train_set_clean[train_set_clean['Freshness'] == 'rotten']#[1]\n",
    "\n",
    "# P(fresh) and P(rotten)\n",
    "p_fresh = len(fresh_tomato) / len(train_set_clean) #[1]\n",
    "p_rotten = len(rotten_tomato) / len(train_set_clean) #[1]\n",
    "\n",
    "# N_fresh\n",
    "n_words_per_fresh_message = fresh_tomato['Review'].apply(len)#[1]\n",
    "n_fresh = n_words_per_fresh_message.sum()#[1]\n",
    "\n",
    "# N_rotten\n",
    "n_words_per_rotten_message = rotten_tomato['Review'].apply(len)#[1]\n",
    "n_rotten = n_words_per_rotten_message.sum()#[1]\n",
    "\n",
    "# N_Vocabulary\n",
    "n_vocabulary = len(vocabulary) #[1]\n",
    "\n",
    "# Laplace smoothing\n",
    "alpha = 1 #[1]\n"
   ]
  },
  {
   "cell_type": "code",
   "execution_count": 68,
   "id": "1ae92bf7",
   "metadata": {},
   "outputs": [],
   "source": [
    "# predicts each class\n",
    "\n",
    "parameters_fresh = {word: i for i, word in enumerate(vocabulary)} #[1]\n",
    "parameters_rotten = {word: i for i, word in enumerate(vocabulary)} #[1]\n",
    "\n",
    "# Calculate parameters from #[1]\n",
    "for word in vocabulary:\n",
    "   n_word_given_fresh = fresh_tomato[word].sum() \n",
    "   p_word_given_fresh = (n_word_given_fresh + alpha) / (n_fresh + alpha*n_vocabulary)\n",
    "   parameters_fresh[word] = p_word_given_fresh\n",
    "\n",
    "   n_word_given_rotten = rotten_tomato[word].sum() \n",
    "   p_word_given_rotten = (n_word_given_rotten + alpha) / (n_rotten + alpha*n_vocabulary)\n",
    "   parameters_rotten[word] = p_word_given_rotten"
   ]
  },
  {
   "cell_type": "code",
   "execution_count": 69,
   "id": "da4341aa",
   "metadata": {},
   "outputs": [],
   "source": [
    "#entire code from #[1]\n",
    "import re\n",
    "def classify(message):\n",
    "    '''\n",
    "    message: a string\n",
    "    '''\n",
    "\n",
    "    message = re.sub('\\W', ' ', message)\n",
    "    message = message.lower().split()\n",
    "\n",
    "    p_fresh_given_message = p_fresh\n",
    "    p_rotten_given_message = p_rotten\n",
    "\n",
    "    for word in message:\n",
    "        if word in parameters_fresh:\n",
    "            p_fresh_given_message *= parameters_fresh[word]\n",
    "        if word in parameters_rotten:\n",
    "            p_rotten_given_message *= parameters_rotten[word]\n",
    "\n",
    "    print('P(fresh|message):', p_fresh_given_message)\n",
    "    print('P(rotten|message):', p_rotten_given_message)\n",
    "\n",
    "    if p_rotten_given_message > p_fresh_given_message:\n",
    "        print('Freshness: rotten')\n",
    "    elif p_rotten_given_message < p_fresh_given_message:\n",
    "        print('Freshness: fresh')\n",
    "    else:\n",
    "        print('Cannot classify with equal probabilities. Please have a human classify this!')\n"
   ]
  },
  {
   "cell_type": "code",
   "execution_count": 70,
   "id": "e3ab0e46",
   "metadata": {},
   "outputs": [
    {
     "name": "stdout",
     "output_type": "stream",
     "text": [
      "P(fresh|message): 0.5013541666666667\n",
      "P(rotten|message): 0.49864583333333334\n",
      "Freshness: fresh\n"
     ]
    }
   ],
   "source": [
    "classify('Slight, contained, but ineffably soulful.') #[1]"
   ]
  },
  {
   "cell_type": "code",
   "execution_count": 34,
   "id": "5f8b3f2d",
   "metadata": {},
   "outputs": [],
   "source": [
    "#f calculate the final accuracy based on test dataset #[1]\n",
    " \n",
    "def classify_test_set(review):\n",
    "    words = review.split()\n",
    "    p_fresh = p_rotten = 1.0\n",
    "    for word in words:\n",
    "        if word in vocabulary:\n",
    "            p_fresh *= parameters_fresh[word]\n",
    "            p_rotten *= parameters_rotten[word]\n",
    "\n",
    "    p_fresh *= (alpha / (n_fresh + alpha*n_vocabulary))\n",
    "    p_rotten *= (alpha / (n_rotten + alpha*n_vocabulary))\n",
    "\n",
    "    if p_fresh > p_rotten:\n",
    "        return 'fresh'\n",
    "    else:\n",
    "        return 'rotten'\n"
   ]
  },
  {
   "cell_type": "code",
   "execution_count": 35,
   "id": "48f1b2df",
   "metadata": {},
   "outputs": [
    {
     "name": "stdout",
     "output_type": "stream",
     "text": [
      "Accuracy based on test set: 50.23%\n"
     ]
    }
   ],
   "source": [
    "test_set['predicted'] = test_set['Review'].apply(classify_test_set) #[1]\n",
    "correct = 0 #[1]\n",
    "for _, row in test_set.iterrows(): #[1]\n",
    "    if row['Freshness'] == row['predicted']:#[1]\n",
    "        correct += 1 #[1]\n",
    "accuracy = correct / len(test_set)#[1]\n",
    "print(\"Accuracy based on test set: {:.2%}\".format(accuracy))\n"
   ]
  },
  {
   "cell_type": "code",
   "execution_count": null,
   "id": "d63313c7",
   "metadata": {},
   "outputs": [],
   "source": [
    "#References\n",
    "[1]:https://www.kdnuggets.com/2020/07/spam-filter-python-naive-bayes-scratch.html\n",
    "[2]:https://stackoverflow.com/questions/10741346/frequency-counts-for-unique-values-in-a-numpy-array\n",
    "[3]:https://towardsdatascience.com/apply-and-lambda-usage-in-pandas-b13a1ea037f7"
   ]
  }
 ],
 "metadata": {
  "kernelspec": {
   "display_name": "Python 3 (ipykernel)",
   "language": "python",
   "name": "python3"
  },
  "language_info": {
   "codemirror_mode": {
    "name": "ipython",
    "version": 3
   },
   "file_extension": ".py",
   "mimetype": "text/x-python",
   "name": "python",
   "nbconvert_exporter": "python",
   "pygments_lexer": "ipython3",
   "version": "3.9.7"
  }
 },
 "nbformat": 4,
 "nbformat_minor": 5
}
